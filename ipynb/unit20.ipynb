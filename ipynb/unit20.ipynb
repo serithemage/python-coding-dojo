{
  "nbformat": 4,
  "nbformat_minor": 0,
  "metadata": {
    "colab": {
      "name": "unit20.ipynb",
      "version": "0.3.2",
      "provenance": [],
      "collapsed_sections": [],
      "include_colab_link": true
    },
    "kernelspec": {
      "name": "python3",
      "display_name": "Python 3"
    }
  },
  "cells": [
    {
      "cell_type": "markdown",
      "metadata": {
        "id": "view-in-github",
        "colab_type": "text"
      },
      "source": [
        "<a href=\"https://colab.research.google.com/github/serithemage/python-coding-dojo/blob/master/ipynb/unit20.ipynb\" target=\"_parent\"><img src=\"https://colab.research.google.com/assets/colab-badge.svg\" alt=\"Open In Colab\"/></a>"
      ]
    },
    {
      "metadata": {
        "id": "UH_NP1fW19XJ",
        "colab_type": "text"
      },
      "cell_type": "markdown",
      "source": [
        "# Unit 20. FizzBuzz 문제"
      ]
    },
    {
      "metadata": {
        "id": "xKcbKh_e2ULv",
        "colab_type": "text"
      },
      "cell_type": "markdown",
      "source": [
        "## 20.1 1부터 100까지 숫자 출력하기\n"
      ]
    },
    {
      "metadata": {
        "id": "S1y4p44XRcGu",
        "colab_type": "code",
        "outputId": "c37f15b4-8813-43d4-f68b-7f5738744786",
        "colab": {
          "base_uri": "https://localhost:8080/",
          "height": 187
        }
      },
      "cell_type": "code",
      "source": [
        "# print_1_to_100.py\n",
        "\n",
        "for i in range(1, 11):\n",
        "  print(i)\n"
      ],
      "execution_count": 2,
      "outputs": [
        {
          "output_type": "stream",
          "text": [
            "1\n",
            "2\n",
            "3\n",
            "4\n",
            "5\n",
            "6\n",
            "7\n",
            "8\n",
            "9\n",
            "10\n"
          ],
          "name": "stdout"
        }
      ]
    },
    {
      "metadata": {
        "id": "ixsBO6rJ4_uT",
        "colab_type": "text"
      },
      "cell_type": "markdown",
      "source": [
        "## 20.2 3의 배수일 때와 5의 배수일 때 처리하기"
      ]
    },
    {
      "metadata": {
        "id": "bBHpxDpsXplW",
        "colab_type": "code",
        "colab": {
          "base_uri": "https://localhost:8080/",
          "height": 527
        },
        "outputId": "0f55a626-d231-4376-acbb-8b737486fe14"
      },
      "cell_type": "code",
      "source": [
        "# multiple_of_3_5.py\n",
        "\n",
        "for i in range(1, 31):\n",
        "  if i % 3 == 0:\n",
        "    print('Fizz')\n",
        "  elif i % 5 == 0:\n",
        "    print('Buzz')\n",
        "  else:\n",
        "    print(i)"
      ],
      "execution_count": 4,
      "outputs": [
        {
          "output_type": "stream",
          "text": [
            "1\n",
            "2\n",
            "Fizz\n",
            "4\n",
            "Buzz\n",
            "Fizz\n",
            "7\n",
            "8\n",
            "Fizz\n",
            "Buzz\n",
            "11\n",
            "Fizz\n",
            "13\n",
            "14\n",
            "Fizz\n",
            "16\n",
            "17\n",
            "Fizz\n",
            "19\n",
            "Buzz\n",
            "Fizz\n",
            "22\n",
            "23\n",
            "Fizz\n",
            "Buzz\n",
            "26\n",
            "Fizz\n",
            "28\n",
            "29\n",
            "Fizz\n"
          ],
          "name": "stdout"
        }
      ]
    },
    {
      "metadata": {
        "id": "uB5847RM42d7",
        "colab_type": "code",
        "colab": {}
      },
      "cell_type": "code",
      "source": [
        ""
      ],
      "execution_count": 0,
      "outputs": []
    }
  ]
}